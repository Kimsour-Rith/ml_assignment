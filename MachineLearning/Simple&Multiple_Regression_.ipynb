{
  "nbformat": 4,
  "nbformat_minor": 0,
  "metadata": {
    "colab": {
      "name": "Simple&Multiple_Regression_.ipynb",
      "provenance": [],
      "collapsed_sections": [],
      "authorship_tag": "ABX9TyN8Vp0IMcyJ2X9DciMcBbK6",
      "include_colab_link": true
    },
    "kernelspec": {
      "name": "python3",
      "display_name": "Python 3"
    },
    "language_info": {
      "name": "python"
    }
  },
  "cells": [
    {
      "cell_type": "markdown",
      "metadata": {
        "id": "view-in-github",
        "colab_type": "text"
      },
      "source": [
        "<a href=\"https://colab.research.google.com/github/Kimsour-Rith/ml_assignment/blob/kimsour/MachineLearning/Simple%26Multiple_Regression_.ipynb\" target=\"_parent\"><img src=\"https://colab.research.google.com/assets/colab-badge.svg\" alt=\"Open In Colab\"/></a>"
      ]
    },
    {
      "cell_type": "markdown",
      "source": [
        "Task : Find out the answer of the below three error code\n",
        "\n",
        "1. Simple Linear-MSE,Absolute error,R^2\n",
        "2. Repeat the same for Multiple LR\n",
        "3. Graph for Multiple"
      ],
      "metadata": {
        "id": "IpE26veVxY4L"
      }
    },
    {
      "cell_type": "markdown",
      "source": [
        "**Simple Linear Regression**\n",
        "\n",
        "---\n",
        "\n"
      ],
      "metadata": {
        "id": "FUJSzicwwz0R"
      }
    },
    {
      "cell_type": "code",
      "source": [
        "#library\n",
        "import matplotlib.pyplot as plt\n",
        "import numpy as np\n",
        "from sklearn.metrics import mean_squared_error,r2_score,mean_absolute_error\n",
        "\n",
        "import pandas as pd\n",
        "import matplotlib.pyplot as plt   #Useful for visualization concept\n",
        "from sklearn import datasets\n",
        "from sklearn.model_selection import train_test_split\n",
        "from sklearn.linear_model import LinearRegression "
      ],
      "metadata": {
        "id": "UyUfn35Vxhem"
      },
      "execution_count": null,
      "outputs": []
    },
    {
      "cell_type": "code",
      "source": [
        "# dataset = pd.read_csv('https://raw.githubusercontent.com/810Teams/video-game-sales/master/vgsales.csv')  # import directly\n",
        "# dataset.head(10)\n",
        "\n",
        "dataset = pd.read_csv('https://raw.githubusercontent.com/datasets/covid-19/main/data/worldwide-aggregate.csv')  # import directly\n",
        "dataset.head(10)"
      ],
      "metadata": {
        "colab": {
          "base_uri": "https://localhost:8080/",
          "height": 363
        },
        "id": "p6_uWaGayHsL",
        "outputId": "4775b92a-d2af-4940-942f-2a895b745884"
      },
      "execution_count": null,
      "outputs": [
        {
          "output_type": "execute_result",
          "data": {
            "text/plain": [
              "         Date  Confirmed  Recovered  Deaths  Increase rate\n",
              "0  2020-01-22        557         30      17            NaN\n",
              "1  2020-01-23        657         32      18      17.953321\n",
              "2  2020-01-24        944         39      26      43.683409\n",
              "3  2020-01-25       1437         42      42      52.224576\n",
              "4  2020-01-26       2120         56      56      47.529576\n",
              "5  2020-01-27       2929         65      82      38.160377\n",
              "6  2020-01-28       5580        108     131      90.508706\n",
              "7  2020-01-29       6169        127     133      10.555556\n",
              "8  2020-01-30       8237        145     171      33.522451\n",
              "9  2020-01-31       9927        225     213      20.517179"
            ],
            "text/html": [
              "\n",
              "  <div id=\"df-1eed0daf-56b3-45f5-bb5b-8d44e9e1ce7a\">\n",
              "    <div class=\"colab-df-container\">\n",
              "      <div>\n",
              "<style scoped>\n",
              "    .dataframe tbody tr th:only-of-type {\n",
              "        vertical-align: middle;\n",
              "    }\n",
              "\n",
              "    .dataframe tbody tr th {\n",
              "        vertical-align: top;\n",
              "    }\n",
              "\n",
              "    .dataframe thead th {\n",
              "        text-align: right;\n",
              "    }\n",
              "</style>\n",
              "<table border=\"1\" class=\"dataframe\">\n",
              "  <thead>\n",
              "    <tr style=\"text-align: right;\">\n",
              "      <th></th>\n",
              "      <th>Date</th>\n",
              "      <th>Confirmed</th>\n",
              "      <th>Recovered</th>\n",
              "      <th>Deaths</th>\n",
              "      <th>Increase rate</th>\n",
              "    </tr>\n",
              "  </thead>\n",
              "  <tbody>\n",
              "    <tr>\n",
              "      <th>0</th>\n",
              "      <td>2020-01-22</td>\n",
              "      <td>557</td>\n",
              "      <td>30</td>\n",
              "      <td>17</td>\n",
              "      <td>NaN</td>\n",
              "    </tr>\n",
              "    <tr>\n",
              "      <th>1</th>\n",
              "      <td>2020-01-23</td>\n",
              "      <td>657</td>\n",
              "      <td>32</td>\n",
              "      <td>18</td>\n",
              "      <td>17.953321</td>\n",
              "    </tr>\n",
              "    <tr>\n",
              "      <th>2</th>\n",
              "      <td>2020-01-24</td>\n",
              "      <td>944</td>\n",
              "      <td>39</td>\n",
              "      <td>26</td>\n",
              "      <td>43.683409</td>\n",
              "    </tr>\n",
              "    <tr>\n",
              "      <th>3</th>\n",
              "      <td>2020-01-25</td>\n",
              "      <td>1437</td>\n",
              "      <td>42</td>\n",
              "      <td>42</td>\n",
              "      <td>52.224576</td>\n",
              "    </tr>\n",
              "    <tr>\n",
              "      <th>4</th>\n",
              "      <td>2020-01-26</td>\n",
              "      <td>2120</td>\n",
              "      <td>56</td>\n",
              "      <td>56</td>\n",
              "      <td>47.529576</td>\n",
              "    </tr>\n",
              "    <tr>\n",
              "      <th>5</th>\n",
              "      <td>2020-01-27</td>\n",
              "      <td>2929</td>\n",
              "      <td>65</td>\n",
              "      <td>82</td>\n",
              "      <td>38.160377</td>\n",
              "    </tr>\n",
              "    <tr>\n",
              "      <th>6</th>\n",
              "      <td>2020-01-28</td>\n",
              "      <td>5580</td>\n",
              "      <td>108</td>\n",
              "      <td>131</td>\n",
              "      <td>90.508706</td>\n",
              "    </tr>\n",
              "    <tr>\n",
              "      <th>7</th>\n",
              "      <td>2020-01-29</td>\n",
              "      <td>6169</td>\n",
              "      <td>127</td>\n",
              "      <td>133</td>\n",
              "      <td>10.555556</td>\n",
              "    </tr>\n",
              "    <tr>\n",
              "      <th>8</th>\n",
              "      <td>2020-01-30</td>\n",
              "      <td>8237</td>\n",
              "      <td>145</td>\n",
              "      <td>171</td>\n",
              "      <td>33.522451</td>\n",
              "    </tr>\n",
              "    <tr>\n",
              "      <th>9</th>\n",
              "      <td>2020-01-31</td>\n",
              "      <td>9927</td>\n",
              "      <td>225</td>\n",
              "      <td>213</td>\n",
              "      <td>20.517179</td>\n",
              "    </tr>\n",
              "  </tbody>\n",
              "</table>\n",
              "</div>\n",
              "      <button class=\"colab-df-convert\" onclick=\"convertToInteractive('df-1eed0daf-56b3-45f5-bb5b-8d44e9e1ce7a')\"\n",
              "              title=\"Convert this dataframe to an interactive table.\"\n",
              "              style=\"display:none;\">\n",
              "        \n",
              "  <svg xmlns=\"http://www.w3.org/2000/svg\" height=\"24px\"viewBox=\"0 0 24 24\"\n",
              "       width=\"24px\">\n",
              "    <path d=\"M0 0h24v24H0V0z\" fill=\"none\"/>\n",
              "    <path d=\"M18.56 5.44l.94 2.06.94-2.06 2.06-.94-2.06-.94-.94-2.06-.94 2.06-2.06.94zm-11 1L8.5 8.5l.94-2.06 2.06-.94-2.06-.94L8.5 2.5l-.94 2.06-2.06.94zm10 10l.94 2.06.94-2.06 2.06-.94-2.06-.94-.94-2.06-.94 2.06-2.06.94z\"/><path d=\"M17.41 7.96l-1.37-1.37c-.4-.4-.92-.59-1.43-.59-.52 0-1.04.2-1.43.59L10.3 9.45l-7.72 7.72c-.78.78-.78 2.05 0 2.83L4 21.41c.39.39.9.59 1.41.59.51 0 1.02-.2 1.41-.59l7.78-7.78 2.81-2.81c.8-.78.8-2.07 0-2.86zM5.41 20L4 18.59l7.72-7.72 1.47 1.35L5.41 20z\"/>\n",
              "  </svg>\n",
              "      </button>\n",
              "      \n",
              "  <style>\n",
              "    .colab-df-container {\n",
              "      display:flex;\n",
              "      flex-wrap:wrap;\n",
              "      gap: 12px;\n",
              "    }\n",
              "\n",
              "    .colab-df-convert {\n",
              "      background-color: #E8F0FE;\n",
              "      border: none;\n",
              "      border-radius: 50%;\n",
              "      cursor: pointer;\n",
              "      display: none;\n",
              "      fill: #1967D2;\n",
              "      height: 32px;\n",
              "      padding: 0 0 0 0;\n",
              "      width: 32px;\n",
              "    }\n",
              "\n",
              "    .colab-df-convert:hover {\n",
              "      background-color: #E2EBFA;\n",
              "      box-shadow: 0px 1px 2px rgba(60, 64, 67, 0.3), 0px 1px 3px 1px rgba(60, 64, 67, 0.15);\n",
              "      fill: #174EA6;\n",
              "    }\n",
              "\n",
              "    [theme=dark] .colab-df-convert {\n",
              "      background-color: #3B4455;\n",
              "      fill: #D2E3FC;\n",
              "    }\n",
              "\n",
              "    [theme=dark] .colab-df-convert:hover {\n",
              "      background-color: #434B5C;\n",
              "      box-shadow: 0px 1px 3px 1px rgba(0, 0, 0, 0.15);\n",
              "      filter: drop-shadow(0px 1px 2px rgba(0, 0, 0, 0.3));\n",
              "      fill: #FFFFFF;\n",
              "    }\n",
              "  </style>\n",
              "\n",
              "      <script>\n",
              "        const buttonEl =\n",
              "          document.querySelector('#df-1eed0daf-56b3-45f5-bb5b-8d44e9e1ce7a button.colab-df-convert');\n",
              "        buttonEl.style.display =\n",
              "          google.colab.kernel.accessAllowed ? 'block' : 'none';\n",
              "\n",
              "        async function convertToInteractive(key) {\n",
              "          const element = document.querySelector('#df-1eed0daf-56b3-45f5-bb5b-8d44e9e1ce7a');\n",
              "          const dataTable =\n",
              "            await google.colab.kernel.invokeFunction('convertToInteractive',\n",
              "                                                     [key], {});\n",
              "          if (!dataTable) return;\n",
              "\n",
              "          const docLinkHtml = 'Like what you see? Visit the ' +\n",
              "            '<a target=\"_blank\" href=https://colab.research.google.com/notebooks/data_table.ipynb>data table notebook</a>'\n",
              "            + ' to learn more about interactive tables.';\n",
              "          element.innerHTML = '';\n",
              "          dataTable['output_type'] = 'display_data';\n",
              "          await google.colab.output.renderOutput(dataTable, element);\n",
              "          const docLink = document.createElement('div');\n",
              "          docLink.innerHTML = docLinkHtml;\n",
              "          element.appendChild(docLink);\n",
              "        }\n",
              "      </script>\n",
              "    </div>\n",
              "  </div>\n",
              "  "
            ]
          },
          "metadata": {},
          "execution_count": 2
        }
      ]
    },
    {
      "cell_type": "code",
      "source": [
        "# select the variable (x-EU_Sales, y - Global_Sales)\n",
        "x_variable = ['EU_Sales']  # input\n",
        "y_variable = ['Global_Sales']   # output\n",
        "\n",
        "x = np.array(dataset[x_variable]).reshape(-1, 1)\n",
        "y = np.array(dataset[y_variable]).reshape(-1, 1)\n",
        "print(x.shape)\n",
        "print(y.shape)"
      ],
      "metadata": {
        "colab": {
          "base_uri": "https://localhost:8080/"
        },
        "id": "WE-Rdjqh02HQ",
        "outputId": "adce2bf4-9aa0-45a1-beb3-4e298f947feb"
      },
      "execution_count": null,
      "outputs": [
        {
          "output_type": "stream",
          "name": "stdout",
          "text": [
            "(17416, 1)\n",
            "(17416, 1)\n"
          ]
        }
      ]
    },
    {
      "cell_type": "code",
      "source": [
        "# split the dataset\n",
        "x_train, x_test, y_train, y_test = train_test_split(x, y, test_size=0.2) # 80% training , 20% test\n",
        "\n",
        "print('x_train:', x_train.shape)\n",
        "print('y_train:', y_train.shape)\n",
        "print('x_test:', x_test.shape)\n",
        "print('y_test:', y_test.shape)"
      ],
      "metadata": {
        "colab": {
          "base_uri": "https://localhost:8080/"
        },
        "id": "CEDSGAfodwhF",
        "outputId": "33a5b7a4-a16b-439c-d4c8-56a863646f9d"
      },
      "execution_count": null,
      "outputs": [
        {
          "output_type": "stream",
          "name": "stdout",
          "text": [
            "x_train: (13932, 1)\n",
            "y_train: (13932, 1)\n",
            "x_test: (3484, 1)\n",
            "y_test: (3484, 1)\n"
          ]
        }
      ]
    },
    {
      "cell_type": "code",
      "source": [
        "#build a model(simpleLinear)\n",
        "Lin_reg = LinearRegression()  # This LinearRegression () means  Q0 + Q1(x)"
      ],
      "metadata": {
        "id": "PoCYflKckdjm"
      },
      "execution_count": null,
      "outputs": []
    },
    {
      "cell_type": "code",
      "source": [
        "#train the model using the training sets\n",
        "model = Lin_reg.fit(x_train, y_train)"
      ],
      "metadata": {
        "id": "SJvCFbY2lsGu"
      },
      "execution_count": null,
      "outputs": []
    },
    {
      "cell_type": "code",
      "source": [
        "Q0 = model.intercept_\n",
        "Q1= model.coef_\n",
        "print(\"Q0 : \",Q0)\n",
        "print(\"Q1 : \",Q1)"
      ],
      "metadata": {
        "colab": {
          "base_uri": "https://localhost:8080/"
        },
        "id": "SUBXcnq0TNIl",
        "outputId": "e2fc4f71-2cc8-4b5f-e406-bfdbd25cd5ba"
      },
      "execution_count": null,
      "outputs": [
        {
          "output_type": "stream",
          "name": "stdout",
          "text": [
            "Q0 :  [0.12995559]\n",
            "Q1 :  [[2.72456729]]\n"
          ]
        }
      ]
    },
    {
      "cell_type": "markdown",
      "source": [
        "y_hat = 0.06 + 1.88x"
      ],
      "metadata": {
        "id": "xXCi8TEmTgG9"
      }
    },
    {
      "cell_type": "code",
      "source": [
        "# Make predictions using the testing set\n",
        "y_pred = model.predict(x_test) # y_hat = Q0 + Q1(x_test)"
      ],
      "metadata": {
        "id": "zMxEv7lol4ZU"
      },
      "execution_count": null,
      "outputs": []
    },
    {
      "cell_type": "code",
      "source": [
        "# The coefficients / slope\n",
        "print('Coefficients / slope : \\n',model.coef_)"
      ],
      "metadata": {
        "colab": {
          "base_uri": "https://localhost:8080/"
        },
        "id": "njUyDj9jmHJa",
        "outputId": "bf286893-94df-4af6-f4e0-65507a55fef8"
      },
      "execution_count": null,
      "outputs": [
        {
          "output_type": "stream",
          "name": "stdout",
          "text": [
            "Coefficients / slope : \n",
            " [[2.72456729]]\n"
          ]
        }
      ]
    },
    {
      "cell_type": "code",
      "source": [
        "# The mean squared error\n",
        "print('Mean squared error: %.2f' % mean_squared_error(y_test,y_pred))"
      ],
      "metadata": {
        "colab": {
          "base_uri": "https://localhost:8080/"
        },
        "id": "Qz4tUg8FmPc3",
        "outputId": "0cd07955-469b-4eb6-c569-12974ab57add"
      },
      "execution_count": null,
      "outputs": [
        {
          "output_type": "stream",
          "name": "stdout",
          "text": [
            "Mean squared error: 0.56\n"
          ]
        }
      ]
    },
    {
      "cell_type": "code",
      "source": [
        "# Mean Absolute Error\n",
        "\n",
        "print(\"Mean absolute Error : %.2f\" % mean_absolute_error(y_test,y_pred))"
      ],
      "metadata": {
        "colab": {
          "base_uri": "https://localhost:8080/"
        },
        "id": "_B5u89SrpD0j",
        "outputId": "16f388ca-c485-45fb-d449-ba6fab6c4c2f"
      },
      "execution_count": null,
      "outputs": [
        {
          "output_type": "stream",
          "name": "stdout",
          "text": [
            "Mean absolute Error : 0.24\n"
          ]
        }
      ]
    },
    {
      "cell_type": "code",
      "source": [
        "# The coefficient of determination R^2\n",
        "print('Coefficient of determination: %.2f' % r2_score(y_test,y_pred))"
      ],
      "metadata": {
        "colab": {
          "base_uri": "https://localhost:8080/"
        },
        "id": "LfcZL9yrtDAM",
        "outputId": "29487c12-c93d-49d0-e2d9-4e7404fcde60"
      },
      "execution_count": null,
      "outputs": [
        {
          "output_type": "stream",
          "name": "stdout",
          "text": [
            "Coefficient of determination: 0.77\n"
          ]
        }
      ]
    },
    {
      "cell_type": "code",
      "source": [
        "plt.figure(figsize=(7,7))\n",
        "plt.scatter(x_test,y_test ,color= \"Black\")\n",
        "plt.plot(x_test, y_pred, color=\"Green\")"
      ],
      "metadata": {
        "colab": {
          "base_uri": "https://localhost:8080/",
          "height": 445
        },
        "id": "VaiJnwGVacj_",
        "outputId": "5b9dfb39-75b9-4367-adc7-2b4dc8fae2c4"
      },
      "execution_count": null,
      "outputs": [
        {
          "output_type": "execute_result",
          "data": {
            "text/plain": [
              "[<matplotlib.lines.Line2D at 0x7f69a0dd4c50>]"
            ]
          },
          "metadata": {},
          "execution_count": 15
        },
        {
          "output_type": "display_data",
          "data": {
            "text/plain": [
              "<Figure size 504x504 with 1 Axes>"
            ],
            "image/png": "[encoded data removed]"
          },
          "metadata": {
            "needs_background": "light"
          }
        }
      ]
    },
    {
      "cell_type": "markdown",
      "source": [
        "**Multiple Linear Regression:**\n",
        "\n",
        "---\n",
        "\n"
      ],
      "metadata": {
        "id": "zaD9MeScuZC2"
      }
    },
    {
      "cell_type": "code",
      "source": [
        "#Multiple Linear regression\n",
        "#select the variables (x-FUELCONSUMPTION_HWY , y - CO2EMISSIONS)\n",
        "\n",
        "x_variable1 = ['Confirmed','Recovered','Deaths' ] #input, Multiple input\n",
        "y_variable1 = ['Increase Rate'] #output\n",
        "\n",
        "len(x_variable)\n",
        "#reshape variable\n",
        "x1 = dataset[x_variable1].values.reshape(-1,3) # 1st value is -1, next value is the length of x_variable\n",
        "y1 = dataset[y_variable1].values.reshape(-1,1)\n",
        "print(x1.shape)\n",
        "print(y1.shape)\n",
        "#(or)"
      ],
      "metadata": {
        "colab": {
          "base_uri": "https://localhost:8080/"
        },
        "id": "HOLt9zvhuhQK",
        "outputId": "1c1bbb14-7d2a-4e7c-959b-98f11cacc899"
      },
      "execution_count": null,
      "outputs": [
        {
          "output_type": "stream",
          "name": "stdout",
          "text": [
            "(17416, 3)\n",
            "(17416, 1)\n"
          ]
        }
      ]
    },
    {
      "cell_type": "code",
      "source": [
        "#split the dataset\n",
        "x_train1, x_test1, y_train1, y_test1 =  train_test_split(x1, y1, test_size = 0.2) # 80% for train, 20% for testing\n",
        "print(x_train1.shape)\n",
        "print(x_test1.shape)"
      ],
      "metadata": {
        "colab": {
          "base_uri": "https://localhost:8080/"
        },
        "id": "NLjWfJRgu9UB",
        "outputId": "3fc6f202-ef2a-4c47-a4d4-8b491b7e4c42"
      },
      "execution_count": null,
      "outputs": [
        {
          "output_type": "stream",
          "name": "stdout",
          "text": [
            "(13932, 3)\n",
            "(3484, 3)\n"
          ]
        }
      ]
    },
    {
      "cell_type": "code",
      "source": [
        "#build a model(multipleLinear)\n",
        "Lin_reg1 = LinearRegression()"
      ],
      "metadata": {
        "id": "UWjNwklwvBT5"
      },
      "execution_count": null,
      "outputs": []
    },
    {
      "cell_type": "code",
      "source": [
        "#training\n",
        "model1 = Lin_reg1.fit(x_train1, y_train1)\n",
        "\n",
        "# y_hat = Q_0(intercept) + Q_1(slope) * FUELCONSUMPTION_HWY'+ Q_2*'ENGINESI"
      ],
      "metadata": {
        "id": "jDpgYX7GvDlW"
      },
      "execution_count": null,
      "outputs": []
    },
    {
      "cell_type": "code",
      "source": [
        "# Make predictions using the testing set\n",
        "y_pred1 = model1.predict(x_test1)"
      ],
      "metadata": {
        "id": "N3lH628nvGYo"
      },
      "execution_count": null,
      "outputs": []
    },
    {
      "cell_type": "code",
      "source": [
        "# The coefficients / slope\n",
        "print('Coefficients / slope : \\n',model1.coef_)"
      ],
      "metadata": {
        "colab": {
          "base_uri": "https://localhost:8080/"
        },
        "id": "VReTlHB0wRXf",
        "outputId": "561c3358-06fe-490c-fa2f-e5f32cdaa8cb"
      },
      "execution_count": null,
      "outputs": [
        {
          "output_type": "stream",
          "name": "stdout",
          "text": [
            "Coefficients / slope : \n",
            " [[1.93186957 1.28399301 1.85653838]]\n"
          ]
        }
      ]
    },
    {
      "cell_type": "code",
      "source": [
        "# The mean squared error\n",
        "print('Mean squared error: %.2f' % mean_squared_error(y_test1,y_pred1))"
      ],
      "metadata": {
        "colab": {
          "base_uri": "https://localhost:8080/"
        },
        "id": "4puJvzNswRND",
        "outputId": "9677b53a-2868-4df7-f63d-b00e5e526579"
      },
      "execution_count": null,
      "outputs": [
        {
          "output_type": "stream",
          "name": "stdout",
          "text": [
            "Mean squared error: 0.30\n"
          ]
        }
      ]
    },
    {
      "cell_type": "code",
      "source": [
        "# Mean Absolute Error\n",
        "\n",
        "print(\"Mean absolute Error : %.2f\" % mean_absolute_error(y_test1,y_pred1))"
      ],
      "metadata": {
        "colab": {
          "base_uri": "https://localhost:8080/"
        },
        "id": "neKDP3uSwZ6d",
        "outputId": "9831bc59-bc84-45f2-e6f5-acab34d91895"
      },
      "execution_count": null,
      "outputs": [
        {
          "output_type": "stream",
          "name": "stdout",
          "text": [
            "Mean absolute Error : 0.17\n"
          ]
        }
      ]
    },
    {
      "cell_type": "code",
      "source": [
        "# The coefficient of determination: 1 is perfect prediction  R^2\n",
        "print('R^2 = %.2f' % r2_score(y_test1,y_pred1))"
      ],
      "metadata": {
        "colab": {
          "base_uri": "https://localhost:8080/"
        },
        "id": "paaOhFXZwhKf",
        "outputId": "91d4b28f-693f-46c1-9d7b-4eb643bd9e86"
      },
      "execution_count": null,
      "outputs": [
        {
          "output_type": "stream",
          "name": "stdout",
          "text": [
            "R^2 = 0.88\n"
          ]
        }
      ]
    },
    {
      "cell_type": "markdown",
      "source": [
        "**Graph For Multiple Regression**\n",
        "\n",
        "---\n",
        "\n"
      ],
      "metadata": {
        "id": "Eqjc16qGw_lD"
      }
    },
    {
      "cell_type": "code",
      "source": [
        "# plt.figure(figsize=(7,7))\n",
        "# plt.scatter(y_test1,y_pred1 ,color= \"Blue\")\n",
        "\n",
        "\n",
        "# plt.xlabel('Actual')\n",
        "# plt.ylabel('Predicted')\n",
        "# plt.title('Actual vs. Predicted')\n",
        "\n",
        "\n",
        "plt.style.use('default')\n",
        "plt.style.use('ggplot')\n",
        "\n",
        "fig, ax = plt.subplots(figsize=(7, 3.5))\n",
        "\n",
        "ax.plot(x_test1, y_pred1, color='k', label='Regression model')\n",
        "ax.scatter(x, y, edgecolor='k', facecolor='blue', alpha=0.7, label='Sample data')\n",
        "ax.set_ylabel('Global_Sales', fontsize=14)\n",
        "ax.set_xlabel(\"'EU_Sales','JP_Sales','Other_Sales'\", fontsize=14)\n",
        "ax.legend(facecolor='white', fontsize=11)\n",
        "ax.text(0.55, 0.15, '$y = %.2f x_1 - %.2f $' % (model.coef_[0], abs(model.intercept_)), fontsize=17, transform=ax.transAxes)\n",
        "\n",
        "fig.tight_layout()"
      ],
      "metadata": {
        "colab": {
          "base_uri": "https://localhost:8080/",
          "height": 357
        },
        "id": "8Z9vjepuxFk3",
        "outputId": "2b58bbf2-1f88-4120-a423-9a6b2482a351"
      },
      "execution_count": null,
      "outputs": [
        {
          "output_type": "display_data",
          "data": {
            "text/plain": [
              "<Figure size 700x350 with 1 Axes>"
            ],
            "image/png": "[encoded data removed]"
          },
          "metadata": {}
        }
      ]
    },
    {
      "cell_type": "code",
      "source": [
        "# pred_y_df = pd.DataFrame({'Actual Value' : y_test1,'Predicted Value' : y_pred1,'Difference' : y_test1 - y_pred1})\n",
        "# pred_y_df[0:20]"
      ],
      "metadata": {
        "id": "HChUGDhobz-T"
      },
      "execution_count": null,
      "outputs": []
    },
    {
      "cell_type": "code",
      "source": [
        ""
      ],
      "metadata": {
        "id": "Tu_HRXt7qU-J"
      },
      "execution_count": null,
      "outputs": []
    },
    {
      "cell_type": "markdown",
      "source": [
        ",'"
      ],
      "metadata": {
        "id": "aPw3TMF5cLx2"
      }
    }
  ]
}